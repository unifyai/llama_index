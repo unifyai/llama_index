{
 "cells": [
  {
   "cell_type": "markdown",
   "id": "27beb3c1-4d05-4645-85e5-60c28bdaaae2",
   "metadata": {},
   "source": [
    "# Privacy-Safe NetworkRetriever Demo"
   ]
  },
  {
   "cell_type": "markdown",
   "id": "7992af05-f1c2-43c2-8a82-a590e5d52b05",
   "metadata": {},
   "source": [
    "Please make sure to follow the README instructions to start up the `ContributorRetrieverService`'s that this notebook requires to be running. That is because a `NetworkRetriever` will be created here that connects to those services via `ContributorRetrieverClient`'s."
   ]
  },
  {
   "cell_type": "markdown",
   "id": "dc390cc2-4f37-498b-a3cc-22b0488c4579",
   "metadata": {},
   "source": [
    "The network in this notebook is privacy safe, since the data that is being exchanged are differentially, private synthetic examples of the [Symptom2Disease](https://www.kaggle.com/datasets/niyarrbarman/symptom2disease) dataset. The synthetic dataset was created by the `DiffPrivateSimpleDatasetPack` llama-pack. For details on the dataset curation, see the demo in the Github repository for that llama-pack (found [here](https://github.com/run-llama/llama_index/tree/main/llama-index-packs/llama-index-packs-diff-private-simple-dataset/examples/symptom_2_disease)).\n",
    "\n",
    "We created two versions of synthetic dataset, differing by the levels of privacy as defined by the parameter epsilon. See README for more details.\n",
    "\n",
    "Privacy-safe networks such as these allow for the data collaboration of sensitive data, and thus provides a pathway for better modelling, research and the like. In this notebook, we show the advantages of being able to connect to multiple data sources, that you may otherwise not have access to except for within a privacy-safe network."
   ]
  },
  {
   "cell_type": "markdown",
   "id": "49ffbb00-4e28-49a1-ad2c-877702d58d49",
   "metadata": {},
   "source": [
    "**The Situation/Task**\n",
    "\n",
    "There are a set of symptoms (in the test set) for which we would like to query the retrievers for similar medical cases. The retrieved noders also carry <symptoms, disease-label> pair (i.e., the `text` attribute of the node are the symptoms and the `reference_label` in the node's `metadata` carries the disease-label). So, after performing retrieval we can see what potential diseases may be related to the symptoms described in the query.\n",
    "\n",
    "For evaluation, we also have and thus use the true labels in the test set. We consider two retrieval metrics, namely: hit rate and mean reciprocal rank."
   ]
  },
  {
   "cell_type": "code",
   "execution_count": null,
   "id": "ff743622-6887-4121-8049-44110b366f06",
   "metadata": {},
   "outputs": [],
   "source": [
    "import os\n",
    "import tqdm\n",
    "\n",
    "from llama_index.core.llama_dataset.simple import LabelledSimpleDataset\n",
    "from llama_index.networks.network.retriever import NetworkRetriever\n",
    "from llama_index.networks.contributor.retriever import ContributorRetrieverClient"
   ]
  },
  {
   "cell_type": "code",
   "execution_count": null,
   "id": "ee0673fd-2bcc-4a45-8caa-a2714377ac5c",
   "metadata": {},
   "outputs": [],
   "source": [
    "import nest_asyncio\n",
    "\n",
    "nest_asyncio.apply()"
   ]
  },
  {
   "cell_type": "markdown",
   "id": "21063788-6349-4539-b946-74415770d74d",
   "metadata": {},
   "source": [
    "### Load Symptom2Disease TestData"
   ]
  },
  {
   "cell_type": "markdown",
   "id": "aff1e9cd-e4b7-4916-bb9d-faaeffd8474d",
   "metadata": {},
   "source": [
    "This test set represents real observations (i.e. not synthetically generated) from the Symptom2Disease dataset. The original dataset was split into a train and test split, where only the train dataset was used to create the differentially private synthetic data examples."
   ]
  },
  {
   "cell_type": "code",
   "execution_count": null,
   "id": "a8f6724f-1918-4b82-8937-f0736bc8ec2d",
   "metadata": {},
   "outputs": [],
   "source": [
    "test_dataset = LabelledSimpleDataset.from_json(\"./symptom_2_disease_test.json\")"
   ]
  },
  {
   "cell_type": "code",
   "execution_count": null,
   "id": "c5a3e16b-bf70-487f-a32f-d97145d3f439",
   "metadata": {},
   "outputs": [
    {
     "data": {
      "text/html": [
       "<div>\n",
       "<style scoped>\n",
       "    .dataframe tbody tr th:only-of-type {\n",
       "        vertical-align: middle;\n",
       "    }\n",
       "\n",
       "    .dataframe tbody tr th {\n",
       "        vertical-align: top;\n",
       "    }\n",
       "\n",
       "    .dataframe thead th {\n",
       "        text-align: right;\n",
       "    }\n",
       "</style>\n",
       "<table border=\"1\" class=\"dataframe\">\n",
       "  <thead>\n",
       "    <tr style=\"text-align: right;\">\n",
       "      <th></th>\n",
       "      <th>reference_label</th>\n",
       "      <th>text</th>\n",
       "      <th>text_by</th>\n",
       "    </tr>\n",
       "  </thead>\n",
       "  <tbody>\n",
       "    <tr>\n",
       "      <th>0</th>\n",
       "      <td>Cervical spondylosis</td>\n",
       "      <td>I've been battling with back pain, a dry cough...</td>\n",
       "      <td>human</td>\n",
       "    </tr>\n",
       "    <tr>\n",
       "      <th>1</th>\n",
       "      <td>Common Cold</td>\n",
       "      <td>My neck is swollen, and I'm exhausted. My thro...</td>\n",
       "      <td>human</td>\n",
       "    </tr>\n",
       "    <tr>\n",
       "      <th>2</th>\n",
       "      <td>Bronchial Asthma</td>\n",
       "      <td>I've been having a tough time with this consta...</td>\n",
       "      <td>human</td>\n",
       "    </tr>\n",
       "    <tr>\n",
       "      <th>3</th>\n",
       "      <td>Dimorphic Hemorrhoids</td>\n",
       "      <td>Recently, I've been having a lot of difficulty...</td>\n",
       "      <td>human</td>\n",
       "    </tr>\n",
       "    <tr>\n",
       "      <th>4</th>\n",
       "      <td>Common Cold</td>\n",
       "      <td>I keep sneezing, and my eyes don't quit drippi...</td>\n",
       "      <td>human</td>\n",
       "    </tr>\n",
       "  </tbody>\n",
       "</table>\n",
       "</div>"
      ],
      "text/plain": [
       "         reference_label                                               text  \\\n",
       "0   Cervical spondylosis  I've been battling with back pain, a dry cough...   \n",
       "1            Common Cold  My neck is swollen, and I'm exhausted. My thro...   \n",
       "2       Bronchial Asthma  I've been having a tough time with this consta...   \n",
       "3  Dimorphic Hemorrhoids  Recently, I've been having a lot of difficulty...   \n",
       "4            Common Cold  I keep sneezing, and my eyes don't quit drippi...   \n",
       "\n",
       "  text_by  \n",
       "0   human  \n",
       "1   human  \n",
       "2   human  \n",
       "3   human  \n",
       "4   human  "
      ]
     },
     "execution_count": null,
     "metadata": {},
     "output_type": "execute_result"
    }
   ],
   "source": [
    "test_dataset.to_pandas()[:5]"
   ]
  },
  {
   "cell_type": "markdown",
   "id": "f4b28402-2de2-4766-a116-bb59fc91459a",
   "metadata": {},
   "source": [
    "### NetworkRetriever"
   ]
  },
  {
   "cell_type": "markdown",
   "id": "59b59caa-e8ed-4927-aaff-52a0856fc647",
   "metadata": {},
   "source": [
    "Create the `NetworkRetriever` that connects to both `ContributorRetrieverServices`"
   ]
  },
  {
   "cell_type": "code",
   "execution_count": null,
   "id": "c1c19958-cb5d-49b4-af8a-76265f108286",
   "metadata": {},
   "outputs": [],
   "source": [
    "# setup ContributorRetrieverClients to connect to ContributorRetrieverServices\n",
    "contributors = [\n",
    "    ContributorRetrieverClient.from_config_file(\n",
    "        env_file=f\"./client-env-files/.env.contributor_{ix}.client\"\n",
    "    )\n",
    "    for ix in range(1, 3)\n",
    "]"
   ]
  },
  {
   "cell_type": "markdown",
   "id": "b287fe46-966d-44bf-b8eb-4211a2e26c27",
   "metadata": {},
   "source": [
    "#### Optional Reranker"
   ]
  },
  {
   "cell_type": "markdown",
   "id": "e8a5956e-cf9e-4a76-bfa7-59455d4fe8db",
   "metadata": {},
   "source": [
    "We add a reranker to rerank the nodes that come back from each of the Contributors."
   ]
  },
  {
   "cell_type": "code",
   "execution_count": null,
   "id": "eb97c0cb-1674-4f75-a656-b36062adca3d",
   "metadata": {},
   "outputs": [],
   "source": [
    "from llama_index.postprocessor.cohere_rerank import CohereRerank\n",
    "\n",
    "reranker = CohereRerank(top_n=5)"
   ]
  },
  {
   "cell_type": "code",
   "execution_count": null,
   "id": "4444b24a-fda4-488f-9889-72525eafe977",
   "metadata": {},
   "outputs": [],
   "source": [
    "network_retriever = NetworkRetriever(\n",
    "    contributors=contributors, node_postprocessors=[reranker]\n",
    ")"
   ]
  },
  {
   "cell_type": "markdown",
   "id": "ee04f3cd-3149-42d6-bf8b-16ec4aea7882",
   "metadata": {},
   "source": [
    "### NetworkRetriever Results"
   ]
  },
  {
   "cell_type": "markdown",
   "id": "40845507-6361-47c7-abc4-f4d0eda12e64",
   "metadata": {},
   "source": [
    "Run through all the test examples to get the retrieved nodes using `NetworkRetriever`."
   ]
  },
  {
   "cell_type": "code",
   "execution_count": null,
   "id": "86eaf73c-3498-4f6b-b3e3-4de0bf916ebd",
   "metadata": {},
   "outputs": [
    {
     "name": "stderr",
     "output_type": "stream",
     "text": [
      "100%|███████████████████████████████████████████████████████████████████████████████████| 240/240 [01:47<00:00,  2.23it/s]\n"
     ]
    }
   ],
   "source": [
    "network_retrievals = []\n",
    "for example in tqdm.tqdm(test_dataset[:]):\n",
    "    network_retrievals.append(await network_retriever.aretrieve(example.text))"
   ]
  },
  {
   "cell_type": "markdown",
   "id": "a602192b-b9b0-4a15-8b4a-e7224f6dae0f",
   "metadata": {},
   "source": [
    "### Contributor1 Retriever Results"
   ]
  },
  {
   "cell_type": "markdown",
   "id": "2851d6b6-42a3-4737-9019-33dd6b95d219",
   "metadata": {},
   "source": [
    "For comparisons sake, we do the same as above but for only a retriever that has access to Contributor 1's data."
   ]
  },
  {
   "cell_type": "code",
   "execution_count": null,
   "id": "0bf9b4b3-77e8-48cf-a580-4a936f739263",
   "metadata": {},
   "outputs": [
    {
     "name": "stderr",
     "output_type": "stream",
     "text": [
      "100%|███████████████████████████████████████████████████████████████████████████████████| 240/240 [01:03<00:00,  3.77it/s]\n"
     ]
    }
   ],
   "source": [
    "contributor1_retriever = NetworkRetriever(contributors=contributors[:1])\n",
    "contributor1_retrievals = []\n",
    "for example in tqdm.tqdm(test_dataset[:]):\n",
    "    contributor1_retrievals.append(await contributor1_retriever.aretrieve(example.text))"
   ]
  },
  {
   "cell_type": "markdown",
   "id": "a94136b0-d1c3-4bef-9571-d11811a5c21b",
   "metadata": {},
   "source": [
    "### Contributor2 Retriever Results"
   ]
  },
  {
   "cell_type": "markdown",
   "id": "cad72a9a-4602-40da-a580-210e1cfda807",
   "metadata": {},
   "source": [
    "And, similarly for Contributor 2."
   ]
  },
  {
   "cell_type": "code",
   "execution_count": null,
   "id": "840a514b-16b9-43ae-b14e-a7749f3b703a",
   "metadata": {},
   "outputs": [
    {
     "name": "stderr",
     "output_type": "stream",
     "text": [
      "100%|███████████████████████████████████████████████████████████████████████████████████| 240/240 [01:02<00:00,  3.84it/s]\n"
     ]
    }
   ],
   "source": [
    "contributor2_retriever = NetworkRetriever(contributors=contributors[1:2])\n",
    "contributor2_retrievals = []\n",
    "for example in tqdm.tqdm(test_dataset[:]):\n",
    "    contributor2_retrievals.append(await contributor2_retriever.aretrieve(example.text))"
   ]
  },
  {
   "cell_type": "markdown",
   "id": "6f820817-b086-4fd3-afb4-d005de6b5cc7",
   "metadata": {},
   "source": [
    "### Evaluations"
   ]
  },
  {
   "cell_type": "markdown",
   "id": "8cb629e7-2d29-4355-a646-549bdb71bbee",
   "metadata": {},
   "source": [
    "We compute the hit rate and mean reciprocal rank scores on the retrievals using the three retrievers."
   ]
  },
  {
   "cell_type": "code",
   "execution_count": null,
   "id": "7b0beb89-1e16-454b-83fc-d76ee00477fe",
   "metadata": {},
   "outputs": [],
   "source": [
    "from typing import List\n",
    "from llama_index.core.schema import NodeWithScore\n",
    "\n",
    "\n",
    "def compute_hit(retrieved_nodes: List[NodeWithScore], expected_label: str):\n",
    "    return any(r.metadata[\"reference_label\"] == expected_label for r in retrieved_nodes)\n",
    "\n",
    "\n",
    "def compute_reciprocal_rank(retrieved_nodes: List[NodeWithScore], expected_label: str):\n",
    "    for i, r in enumerate(retrieved_nodes):\n",
    "        if r.metadata[\"reference_label\"] == expected_label:\n",
    "            return 1.0 / (i + 1)\n",
    "    return 0"
   ]
  },
  {
   "cell_type": "markdown",
   "id": "0133f971-8169-44f7-ac03-7d7c655fcb12",
   "metadata": {},
   "source": [
    "#### NetworkRetriever"
   ]
  },
  {
   "cell_type": "code",
   "execution_count": null,
   "id": "3f8ea6e4-49d9-479c-847b-305d79dcbf3c",
   "metadata": {},
   "outputs": [],
   "source": [
    "network_retriver_hits = [\n",
    "    compute_hit(r, ex.reference_label)\n",
    "    for r, ex in zip(network_retrievals, test_dataset.examples)\n",
    "]\n",
    "network_retriver_reciprocal_ranks = [\n",
    "    compute_reciprocal_rank(r, ex.reference_label)\n",
    "    for r, ex in zip(network_retrievals, test_dataset.examples)\n",
    "]"
   ]
  },
  {
   "cell_type": "markdown",
   "id": "ddccc648-df7d-49d5-b3ad-3d8f4b3a511f",
   "metadata": {},
   "source": [
    "#### Contributor 1"
   ]
  },
  {
   "cell_type": "code",
   "execution_count": null,
   "id": "17e35e26-09eb-49d6-af7d-163b26d135af",
   "metadata": {},
   "outputs": [],
   "source": [
    "contributor1_retriever_hits = [\n",
    "    compute_hit(r, ex.reference_label)\n",
    "    for r, ex in zip(contributor1_retrievals, test_dataset.examples)\n",
    "]\n",
    "contributor1_retriever_reciprocal_ranks = [\n",
    "    compute_reciprocal_rank(r, ex.reference_label)\n",
    "    for r, ex in zip(contributor1_retrievals, test_dataset.examples)\n",
    "]"
   ]
  },
  {
   "cell_type": "markdown",
   "id": "d435e6ba-f499-4435-b6e6-4dad09b03222",
   "metadata": {},
   "source": [
    "#### Contributor 2"
   ]
  },
  {
   "cell_type": "code",
   "execution_count": null,
   "id": "d30c87d3-022e-4503-bc3d-10a1852224d3",
   "metadata": {},
   "outputs": [],
   "source": [
    "contributor2_retriever_hits = [\n",
    "    compute_hit(r, ex.reference_label)\n",
    "    for r, ex in zip(contributor2_retrievals, test_dataset.examples)\n",
    "]\n",
    "contributor2_retriever_reciprocal_ranks = [\n",
    "    compute_reciprocal_rank(r, ex.reference_label)\n",
    "    for r, ex in zip(contributor2_retrievals, test_dataset.examples)\n",
    "]"
   ]
  },
  {
   "cell_type": "markdown",
   "id": "5933fe39-a3eb-4700-9bdb-200517d0a760",
   "metadata": {},
   "source": [
    "#### Summary Report"
   ]
  },
  {
   "cell_type": "code",
   "execution_count": null,
   "id": "4a457c11-3968-40b1-81c9-8e98a9bfc5a4",
   "metadata": {},
   "outputs": [
    {
     "data": {
      "text/html": [
       "<div>\n",
       "<style scoped>\n",
       "    .dataframe tbody tr th:only-of-type {\n",
       "        vertical-align: middle;\n",
       "    }\n",
       "\n",
       "    .dataframe tbody tr th {\n",
       "        vertical-align: top;\n",
       "    }\n",
       "\n",
       "    .dataframe thead th {\n",
       "        text-align: right;\n",
       "    }\n",
       "</style>\n",
       "<table border=\"1\" class=\"dataframe\">\n",
       "  <thead>\n",
       "    <tr style=\"text-align: right;\">\n",
       "      <th></th>\n",
       "      <th>retriever</th>\n",
       "      <th>hit rate</th>\n",
       "      <th>mean reciprocal rank</th>\n",
       "    </tr>\n",
       "  </thead>\n",
       "  <tbody>\n",
       "    <tr>\n",
       "      <th>0</th>\n",
       "      <td>network</td>\n",
       "      <td>0.820833</td>\n",
       "      <td>0.584028</td>\n",
       "    </tr>\n",
       "    <tr>\n",
       "      <th>1</th>\n",
       "      <td>contributor1</td>\n",
       "      <td>0.454167</td>\n",
       "      <td>0.371250</td>\n",
       "    </tr>\n",
       "    <tr>\n",
       "      <th>2</th>\n",
       "      <td>contributor2</td>\n",
       "      <td>0.437500</td>\n",
       "      <td>0.368958</td>\n",
       "    </tr>\n",
       "  </tbody>\n",
       "</table>\n",
       "</div>"
      ],
      "text/plain": [
       "      retriever  hit rate  mean reciprocal rank\n",
       "0       network  0.820833              0.584028\n",
       "1  contributor1  0.454167              0.371250\n",
       "2  contributor2  0.437500              0.368958"
      ]
     },
     "execution_count": null,
     "metadata": {},
     "output_type": "execute_result"
    }
   ],
   "source": [
    "import pandas as pd\n",
    "\n",
    "num_examples = len(test_dataset.examples)\n",
    "summary_data = {\n",
    "    \"retriever\": [\"network\", \"contributor1\", \"contributor2\"],\n",
    "    \"hit rate\": [\n",
    "        sum(network_retriver_hits) / num_examples,\n",
    "        sum(contributor1_retriever_hits) / num_examples,\n",
    "        sum(contributor2_retriever_hits) / num_examples,\n",
    "    ],\n",
    "    \"mean reciprocal rank\": [\n",
    "        sum(network_retriver_reciprocal_ranks) / num_examples,\n",
    "        sum(contributor1_retriever_reciprocal_ranks) / num_examples,\n",
    "        sum(contributor2_retriever_reciprocal_ranks) / num_examples,\n",
    "    ],\n",
    "}\n",
    "summary_df = pd.DataFrame(summary_data)\n",
    "summary_df"
   ]
  },
  {
   "cell_type": "markdown",
   "id": "6d43ffd0-2b3f-49b8-9a44-cc1b8bc599f2",
   "metadata": {},
   "source": [
    "In summary, we make the following observations:\n",
    "\n",
    "1. The `NetworkRetriever` outperforms the individual `Contributor` retriever. This makes sense because we split up the data into two disjoint sets and assigned them to Contributors 1 and 2. In other words, each contributor has their own unique subset of diseases. Therefore, having a network connect to both of these datasets mean that you have access to more records of diseases than you'd otherwise have with only using one of these contributors.\n",
    "2. The synthetic data, still maintains some utility in this toy example. We see this because the synthetic data does still closely align with the symptoms of the test set."
   ]
  },
  {
   "cell_type": "markdown",
   "id": "ba4c55d5-0c69-4c32-954e-e3f696472ea3",
   "metadata": {},
   "source": [
    "**Important Note**\n",
    "\n",
    "This example was merely a toy example, showing the potential in using LLMs to generate synthetic, privacy safe observations. The tradeoff between privacy and accuracy must be carefully considered for each individual case. Adding too much privacy (i.e., noise) may render the synthetic observations useless (and in this case for example, may lead to the wrong records being retrieved for something as delicate as potentially diagnosing a set of symptoms.)"
   ]
  }
 ],
 "metadata": {
  "kernelspec": {
   "display_name": "networks-retriever-demo",
   "language": "python",
   "name": "networks-retriever-demo"
  },
  "language_info": {
   "codemirror_mode": {
    "name": "ipython",
    "version": 3
   },
   "file_extension": ".py",
   "mimetype": "text/x-python",
   "name": "python",
   "nbconvert_exporter": "python",
   "pygments_lexer": "ipython3"
  }
 },
 "nbformat": 4,
 "nbformat_minor": 5
}
